{
  "nbformat": 4,
  "nbformat_minor": 0,
  "metadata": {
    "colab": {
      "provenance": []
    },
    "kernelspec": {
      "name": "python3",
      "display_name": "Python 3"
    },
    "language_info": {
      "name": "python"
    }
  },
  "cells": [
    {
      "cell_type": "markdown",
      "source": [
        "# TALLER #1\n",
        "### Anggie Reyes\n",
        "### Maria Bastos\n",
        "### Jessica Rojas"
      ],
      "metadata": {
        "id": "sIAHVACx2e7r"
      }
    },
    {
      "cell_type": "markdown",
      "source": [
        "1. Define dos variables, nombre y edad, e imprime un mensaje de saludo que las utilice."
      ],
      "metadata": {
        "id": "AOpC6jiB2Wn9"
      }
    },
    {
      "cell_type": "code",
      "execution_count": null,
      "metadata": {
        "id": "R2sD0LWe2S1T"
      },
      "outputs": [],
      "source": [
        "nombre = \"Maria\" #define variable nombre"
      ]
    },
    {
      "cell_type": "code",
      "source": [
        "edad = \"23\" #define variable edad\n"
      ],
      "metadata": {
        "id": "xkY7N6hq3iM7"
      },
      "execution_count": null,
      "outputs": []
    },
    {
      "cell_type": "code",
      "source": [
        "print(f\"Hola, mi nombre es {nombre}, tengo {edad} años de edad\") #imprime el mensale de saludo incluyendo las dos varables definidas"
      ],
      "metadata": {
        "colab": {
          "base_uri": "https://localhost:8080/"
        },
        "id": "1LwnGptL3oib",
        "outputId": "51a67326-c3d1-4390-a0e8-c19493cbacd1"
      },
      "execution_count": null,
      "outputs": [
        {
          "output_type": "stream",
          "name": "stdout",
          "text": [
            "Hola, mi nombre es Maria, tengo 23 años de edad\n"
          ]
        }
      ]
    },
    {
      "cell_type": "markdown",
      "source": [
        "2. Calcula y muestra el área de un círculo. Pide al usuario que ingrese el radio."
      ],
      "metadata": {
        "id": "Cb7R77MO3xBT"
      }
    },
    {
      "cell_type": "code",
      "source": [
        "import math #\n",
        "\n",
        "radio = float(input(\"Ingresa el radio del círculo: \"))"
      ],
      "metadata": {
        "colab": {
          "base_uri": "https://localhost:8080/"
        },
        "id": "SZjhsOQF324b",
        "outputId": "ebb6a908-9be5-4733-bc42-9c723fe1e683"
      },
      "execution_count": null,
      "outputs": [
        {
          "name": "stdout",
          "output_type": "stream",
          "text": [
            "Ingresa el radio del círculo: 6\n"
          ]
        }
      ]
    },
    {
      "cell_type": "code",
      "source": [
        "area = math.pi * radio ** 6"
      ],
      "metadata": {
        "id": "VPYLGDqw46j3"
      },
      "execution_count": null,
      "outputs": []
    },
    {
      "cell_type": "code",
      "source": [
        "print(f\"El área del círculo es: {area}\")"
      ],
      "metadata": {
        "colab": {
          "base_uri": "https://localhost:8080/"
        },
        "id": "-lmf1Ed75A9-",
        "outputId": "62c7e3bd-04fd-4ec6-b8ae-b5d10c307787"
      },
      "execution_count": null,
      "outputs": [
        {
          "output_type": "stream",
          "name": "stdout",
          "text": [
            "El área del círculo es: 146574.14684588538\n"
          ]
        }
      ]
    },
    {
      "cell_type": "markdown",
      "source": [
        "3.Escribe una función calcular_promedio que tome una lista de números como argumento y devuelva su promedio."
      ],
      "metadata": {
        "id": "J3gkrgzp5Qpn"
      }
    },
    {
      "cell_type": "code",
      "source": [
        "lista1=[15,20,35,9,10,2,30,40,38,73,45,20,22] # definir lista\n",
        "lista1"
      ],
      "metadata": {
        "colab": {
          "base_uri": "https://localhost:8080/"
        },
        "id": "E_RpGSDP5Y_F",
        "outputId": "7e302447-cb46-42ab-e04e-9e1d98f82748"
      },
      "execution_count": null,
      "outputs": [
        {
          "output_type": "execute_result",
          "data": {
            "text/plain": [
              "[15, 20, 35, 9, 10, 2, 30, 40, 38, 73, 45, 20, 22]"
            ]
          },
          "metadata": {},
          "execution_count": 13
        }
      ]
    },
    {
      "cell_type": "code",
      "source": [
        "def calcular_promedio(lista1): # definición de función\n",
        "    return sum(lista1) / len(lista1)"
      ],
      "metadata": {
        "id": "zIPf4T5p6Lh7"
      },
      "execution_count": null,
      "outputs": []
    },
    {
      "cell_type": "code",
      "source": [
        "calcular_promedio(lista1)"
      ],
      "metadata": {
        "colab": {
          "base_uri": "https://localhost:8080/"
        },
        "id": "LCEYUa-H6Vcr",
        "outputId": "9a0c5fac-ca56-41d9-c281-a6d860922597"
      },
      "execution_count": null,
      "outputs": [
        {
          "output_type": "execute_result",
          "data": {
            "text/plain": [
              "27.615384615384617"
            ]
          },
          "metadata": {},
          "execution_count": 18
        }
      ]
    },
    {
      "cell_type": "markdown",
      "source": [
        "4.Crea una lista de números y utiliza un bucle for para mostrar los números mayores que 10."
      ],
      "metadata": {
        "id": "gwcktxhP6idi"
      }
    },
    {
      "cell_type": "code",
      "source": [
        "lista2 = [8, 15, 3, 12, 9, 20, 1, 85, 50, 35, 8, 9, 16, 40, 7] # definir lista\n",
        "lista2"
      ],
      "metadata": {
        "colab": {
          "base_uri": "https://localhost:8080/"
        },
        "id": "mli-bLNS6mwJ",
        "outputId": "a2b31e63-acde-45e5-bb56-52883be24ada"
      },
      "execution_count": null,
      "outputs": [
        {
          "output_type": "execute_result",
          "data": {
            "text/plain": [
              "[8, 15, 3, 12, 9, 20, 1, 85, 50, 35, 8, 9, 16, 40, 7]"
            ]
          },
          "metadata": {},
          "execution_count": 19
        }
      ]
    },
    {
      "cell_type": "code",
      "source": [
        "for numero in lista2:\n",
        "    if numero > 10: # si el numero es mayor a 10\n",
        "        print(numero) # imprimir el numero"
      ],
      "metadata": {
        "colab": {
          "base_uri": "https://localhost:8080/"
        },
        "id": "HCBHXKXq7DLp",
        "outputId": "90edebba-28c9-4ed5-a116-b8ffa1564971"
      },
      "execution_count": null,
      "outputs": [
        {
          "output_type": "stream",
          "name": "stdout",
          "text": [
            "15\n",
            "12\n",
            "20\n",
            "85\n",
            "50\n",
            "35\n",
            "16\n",
            "40\n"
          ]
        }
      ]
    },
    {
      "cell_type": "markdown",
      "source": [
        "5.Define un diccionario que almacene los precios de tres productos diferentes. Pide al usuario que ingrese el nombre de un producto y muestra su precio."
      ],
      "metadata": {
        "id": "MbM-4MtQ7TOx"
      }
    },
    {
      "cell_type": "code",
      "source": [
        "productos = {\"yuca\": 1.500, #definición de diccionario\n",
        "    \"platano\": 2.000,\n",
        "    \"arepa\": 800}"
      ],
      "metadata": {
        "id": "ZvJKtaGy7YXK"
      },
      "execution_count": null,
      "outputs": []
    },
    {
      "cell_type": "code",
      "source": [
        "producto_elegido = input(\"Ingresa el nombre del producto: \") # solicitar al usuario ingresar el nombre de un de los producto"
      ],
      "metadata": {
        "colab": {
          "base_uri": "https://localhost:8080/"
        },
        "id": "-h2A_h1W8OfQ",
        "outputId": "9bd65eab-29ac-4bc3-fdac-5427fc1e1062"
      },
      "execution_count": null,
      "outputs": [
        {
          "name": "stdout",
          "output_type": "stream",
          "text": [
            "Ingresa el nombre del producto: arepa\n"
          ]
        }
      ]
    },
    {
      "cell_type": "code",
      "source": [
        "if producto_elegido in productos: # si el producto se encuentra dentro del diccionario\n",
        "    print(f\"El precio de {producto_elegido} es: {productos[producto_elegido]}\") # imprimir el nombre y precio del producto\n",
        "else: # si no está\n",
        "    print(\"Producto no encontrado.\") # imprimir \" no encontrado\""
      ],
      "metadata": {
        "colab": {
          "base_uri": "https://localhost:8080/"
        },
        "id": "tnmJalPo8ScY",
        "outputId": "60af2b4a-f2c6-406d-b849-a4d37f8fd240"
      },
      "execution_count": null,
      "outputs": [
        {
          "output_type": "stream",
          "name": "stdout",
          "text": [
            "El precio de arepa es: 800\n"
          ]
        }
      ]
    },
    {
      "cell_type": "markdown",
      "source": [
        "6.Escribe una función es_primo que determine si un número dado es primo o no."
      ],
      "metadata": {
        "id": "5Mkj6lga8Z4x"
      }
    },
    {
      "cell_type": "code",
      "source": [
        "def es_primo(numero):\n",
        "   if numero <= 1:\n",
        "        return False\n",
        "   if numero <= 3:\n",
        "        return True\n",
        "   if numero % 2 == 0 or numero % 3 == 0:\n",
        "        return False\n",
        "   i = 58\n",
        "   while i * i <= numero:\n",
        "    if numero % i == 0 or numero % (i+2) == 0:\n",
        "      return False\n",
        "    i += 8\n",
        "   return True\n",
        "numero_ingresado = int(input(\"ingresa un numero:\"))\n",
        "if es_primo(numero_ingresado):\n",
        "  print(numero_ingresado, \"es un numero primo\")\n",
        "else:\n",
        "  print(numero_ingresado, \"no es un numero primo\")"
      ],
      "metadata": {
        "colab": {
          "base_uri": "https://localhost:8080/"
        },
        "id": "c2cYshcH8jfX",
        "outputId": "6d6f6c42-2a9d-4d6e-b664-709f31f48fd8"
      },
      "execution_count": null,
      "outputs": [
        {
          "output_type": "stream",
          "name": "stdout",
          "text": [
            "ingresa un numero:58\n",
            "58 no es un numero primo\n"
          ]
        }
      ]
    },
    {
      "cell_type": "markdown",
      "source": [
        "7. Crea una lista de nombres y utiliza un bucle while para imprimir cada nombre hasta que encuentres el nombre \"Alex\"."
      ],
      "metadata": {
        "id": "Lbxkn0GRAHR3"
      }
    },
    {
      "cell_type": "code",
      "source": [
        "ln= [\"Antonio\",\"Carlos\", \"Ana\", \"Sofia\", \"Alex\", \"Jose\", \"Laura\"]\n"
      ],
      "metadata": {
        "id": "MsxGxlE0AGU3"
      },
      "execution_count": null,
      "outputs": []
    },
    {
      "cell_type": "code",
      "source": [
        "indice = 0\n",
        "while ln[indice] != \"Alex\":\n",
        "    print(ln[indice])\n",
        "    indice += 1"
      ],
      "metadata": {
        "colab": {
          "base_uri": "https://localhost:8080/"
        },
        "id": "KUGhqvZ8AlOO",
        "outputId": "8a3b613d-f57c-4e25-8cbc-a9e074a7bb1a"
      },
      "execution_count": null,
      "outputs": [
        {
          "output_type": "stream",
          "name": "stdout",
          "text": [
            "Antonio\n",
            "Carlos\n",
            "Ana\n",
            "Sofia\n"
          ]
        }
      ]
    },
    {
      "cell_type": "markdown",
      "source": [
        "8. Escribe una función invertir_cadena que tome una cadena como argumento y devuelva la cadena invertida."
      ],
      "metadata": {
        "id": "grcdihKYBPJl"
      }
    },
    {
      "cell_type": "code",
      "source": [
        "def invertir_cadena (cadena):\n",
        "  cadena_invertida = cadena [:: -1]\n",
        "  return cadena_invertida\n",
        "cadena_original = input(\"cadena: \") #pide insertar nombre de caena original\n",
        "cadena_invertida = invertir_cadena(cadena_original) #invierte la cadena original\n",
        "print(\"cadena original:\", cadena_original) #Renombra\n",
        "print(\"cadena invertida:\", cadena_invertida) #Renombra"
      ],
      "metadata": {
        "colab": {
          "base_uri": "https://localhost:8080/"
        },
        "id": "j5hGRHfZBTmD",
        "outputId": "b37aea39-86db-410e-d691-9beba0dd2ae1"
      },
      "execution_count": null,
      "outputs": [
        {
          "output_type": "stream",
          "name": "stdout",
          "text": [
            "cadena: Rexona No Te Abandona\n",
            "cadena original: Rexona No Te Abandona\n",
            "cadena invertida: anodnabA eT oN anoxeR\n"
          ]
        }
      ]
    },
    {
      "cell_type": "markdown",
      "source": [
        "9. Crea una lista de números pares del 2 al 20 utilizando una comprensión de lista."
      ],
      "metadata": {
        "id": "BINcFjVYDpfo"
      }
    },
    {
      "cell_type": "code",
      "source": [
        "numeros_pares = [num for num in range(2, 21) if num % 2 == 0]"
      ],
      "metadata": {
        "id": "M7czbBAjDtG3"
      },
      "execution_count": null,
      "outputs": []
    },
    {
      "cell_type": "code",
      "source": [
        "numeros_pares"
      ],
      "metadata": {
        "colab": {
          "base_uri": "https://localhost:8080/"
        },
        "id": "VVYvBzzdEFbW",
        "outputId": "67401d84-f12e-4065-af97-6d56834f3077"
      },
      "execution_count": null,
      "outputs": [
        {
          "output_type": "execute_result",
          "data": {
            "text/plain": [
              "[2, 4, 6, 8, 10, 12, 14, 16, 18, 20]"
            ]
          },
          "metadata": {},
          "execution_count": 51
        }
      ]
    },
    {
      "cell_type": "markdown",
      "source": [
        "10. Escribe un programa que genere los primeros\n",
        " términos de la serie de Fibonacci a discresión del usuario."
      ],
      "metadata": {
        "id": "YxFzbXYCEJju"
      }
    },
    {
      "cell_type": "code",
      "source": [
        "n = int(input(\"Ingresa el número de términos de Fibonacci que deseas generar: \"))\n",
        "a, b = 0, 1\n",
        "for _ in range(n):\n",
        "    print(a, end=\" \")\n",
        "    a, b = b, a + b"
      ],
      "metadata": {
        "colab": {
          "base_uri": "https://localhost:8080/"
        },
        "id": "QutKUzqFETam",
        "outputId": "ceb1398d-1c0e-4154-93c4-29da13f263c2"
      },
      "execution_count": null,
      "outputs": [
        {
          "output_type": "stream",
          "name": "stdout",
          "text": [
            "Ingresa el número de términos de Fibonacci que deseas generar: 8\n",
            "0 1 1 2 3 5 8 13 "
          ]
        }
      ]
    },
    {
      "cell_type": "markdown",
      "source": [
        "11.Escribe una función calcular_interes_simple que calcule el interés simple dado el principal, la tasa de interés y el tiempo en años."
      ],
      "metadata": {
        "id": "2an7Pp7QEqFl"
      }
    },
    {
      "cell_type": "code",
      "source": [
        "def calcular_interes_simple(principal, tasa_interes, tiempo):\n",
        "\n",
        "    tasa_interes_decimal = tasa_interes / 100  # Convertir la tasa de interés a decimal dividiendo por 100\n",
        "\n",
        "    interes = principal * tasa_interes_decimal * tiempo     # Calcular el interés simple\n",
        "\n",
        "    return interes\n",
        "\n",
        "principal = 596  # Cantidad inicial # Ejemplo de uso\n",
        "tasa_interes = 4  # Tasa de interés en porcentaje\n",
        "tiempo = 1        # Tiempo en años\n",
        "\n",
        "interes = calcular_interes_simple(principal, tasa_interes, tiempo)\n",
        "print(f\"El interés simple es: {interes}\")\n"
      ],
      "metadata": {
        "colab": {
          "base_uri": "https://localhost:8080/"
        },
        "id": "0G-IgyKfFAXa",
        "outputId": "03e739a5-358d-4987-bca2-83412e162111"
      },
      "execution_count": null,
      "outputs": [
        {
          "output_type": "stream",
          "name": "stdout",
          "text": [
            "El interés simple es: 23.84\n"
          ]
        }
      ]
    },
    {
      "cell_type": "markdown",
      "source": [
        "12. Crea una lista de precios de acciones. Utiliza una función para calcular el promedio de esos precios."
      ],
      "metadata": {
        "id": "9fKj-gvQSj0j"
      }
    },
    {
      "cell_type": "code",
      "source": [
        "lista3 = [2.30, 31.5, 52.3, 3.4, 15.2, 58, 9.8] #definir lista\n",
        "lista3"
      ],
      "metadata": {
        "id": "uyjg0bYhSjD7",
        "colab": {
          "base_uri": "https://localhost:8080/"
        },
        "outputId": "9026154d-abd9-469a-9db6-b2805ce28515"
      },
      "execution_count": null,
      "outputs": [
        {
          "output_type": "execute_result",
          "data": {
            "text/plain": [
              "[2.3, 31.5, 52.3, 3.4, 15.2, 58, 9.8]"
            ]
          },
          "metadata": {},
          "execution_count": 2
        }
      ]
    },
    {
      "cell_type": "code",
      "source": [
        "def calcular_promedio_precios(lista3): #definición de función para calcular el promedio\n",
        "    return sum(lista3) / len(lista3) #operación de la función"
      ],
      "metadata": {
        "id": "JPMjgY8mVI3g"
      },
      "execution_count": null,
      "outputs": []
    },
    {
      "cell_type": "code",
      "source": [
        "calcular_promedio_precios(lista3)"
      ],
      "metadata": {
        "colab": {
          "base_uri": "https://localhost:8080/"
        },
        "id": "p92uIxt1VOX2",
        "outputId": "857daac8-3e8d-4131-f1fe-b91082272f3d"
      },
      "execution_count": null,
      "outputs": [
        {
          "output_type": "execute_result",
          "data": {
            "text/plain": [
              "24.642857142857142"
            ]
          },
          "metadata": {},
          "execution_count": 5
        }
      ]
    },
    {
      "cell_type": "markdown",
      "source": [
        "13. Escribe una función convertir_dolares_a_euros que tome una cantidad en dólares y la convierta a euros (usando una tasa de cambio fija)."
      ],
      "metadata": {
        "id": "PNrTpHDeVsiR"
      }
    },
    {
      "cell_type": "code",
      "source": [
        "def convertir_dolares_a_euros(cantidad_dolares, tasa_cambio): #definición de función\n",
        "    cantidad_euros = cantidad_dolares * tasa_cambio #operación de la función\n",
        "    return cantidad_euros\n",
        "\n",
        "# Tasa de cambio fija (ejemplo: 1 dólar = 0.90 euros)\n",
        "tasa_cambio_dolar_a_euro = 0.90\n",
        "\n",
        "cantidad_dolares = float(input(\"Ingrese la cantidad en dólares: \")) #opción para que el usuario ingrese la cantidad de dolares que desee\n",
        "cantidad_euros = convertir_dolares_a_euros(cantidad_dolares, tasa_cambio_dolar_a_euro)\n",
        "\n",
        "print(f\"{cantidad_dolares} dólares son aproximadamente {cantidad_euros:.2f} euros.\")"
      ],
      "metadata": {
        "colab": {
          "base_uri": "https://localhost:8080/"
        },
        "id": "KzzK1qgOV6Q4",
        "outputId": "037106a1-8a92-4216-ff40-0c25ad8fc28f"
      },
      "execution_count": null,
      "outputs": [
        {
          "output_type": "stream",
          "name": "stdout",
          "text": [
            "Ingrese la cantidad en dólares: 589\n",
            "589.0 dólares son aproximadamente 530.10 euros.\n"
          ]
        }
      ]
    },
    {
      "cell_type": "markdown",
      "source": [
        "14. Crea una función calcular_factorial que calcule el factorial de un número dado."
      ],
      "metadata": {
        "id": "FkGAShX-XSX_"
      }
    },
    {
      "cell_type": "code",
      "source": [
        "def calcular_factorial(n):\n",
        "  if n == 0:  # Base de la recursión: si n es 0, el factorial es 1.\n",
        "        return 1\n",
        "  else:\n",
        "        return n * calcular_factorial(n - 1)  # Caso general: n * factorial de (n - 1)\n",
        "\n",
        "numero = int(input(\"Ingrese un número para calcular su factorial: \")) # Solicitar al usuario un número para calcular su factorial\n",
        "\n",
        "resultado = calcular_factorial(numero) # Calcular el factorial utilizando la función calcular_factorial\n",
        "\n",
        "print(f\"El factorial de {numero} es {resultado}\") # Mostrar el resultado"
      ],
      "metadata": {
        "colab": {
          "base_uri": "https://localhost:8080/"
        },
        "id": "nPSMKGyjXNFJ",
        "outputId": "c1a56ce0-2e6f-4a1a-e8d6-acf0bd4fbd0c"
      },
      "execution_count": null,
      "outputs": [
        {
          "output_type": "stream",
          "name": "stdout",
          "text": [
            "Ingrese un número para calcular su factorial: 5\n",
            "El factorial de 5 es 120\n"
          ]
        }
      ]
    },
    {
      "cell_type": "markdown",
      "source": [
        "15. Define un diccionario que contenga los nombres y saldos de cuentas bancarias. Escribe una función que encuentre la cuenta con el saldo más alto."
      ],
      "metadata": {
        "id": "X8HiS_TCY8l0"
      }
    },
    {
      "cell_type": "code",
      "source": [
        "cuentas_bancarias = {   # Definir un diccionario de cuentas bancarias\n",
        "    \"Paula\": 5000.00,\n",
        "    \"Lorena\": 2500.50,\n",
        "    \"Vanessa\": 1800.25,\n",
        "    \"Sofia\": 7800.25}"
      ],
      "metadata": {
        "id": "foPIUbkJZC1M"
      },
      "execution_count": null,
      "outputs": []
    },
    {
      "cell_type": "code",
      "source": [
        "def encontrar_cuenta_mas_rica(cuentas):\n",
        "\n",
        "    nombre_mas_rico = None # Inicializar variables para el nombre y saldo más alto\n",
        "    saldo_mas_alto = float(\"-inf\")  # Inicializar con un valor muy bajo\n",
        "\n",
        "    for nombre, saldo in cuentas.items():    # Realizar a través de las cuentas para encontrar el saldo más alto\n",
        "        if saldo > saldo_mas_alto:\n",
        "            saldo_mas_alto = saldo\n",
        "            nombre_mas_rico = nombre\n",
        "\n",
        "    return nombre_mas_rico, saldo_mas_alto\n",
        "\n",
        "nombre_cuenta_rica, saldo_cuenta_rica = encontrar_cuenta_mas_rica(cuentas_bancarias)# Llamar a la función para encontrar la cuenta más rica\n",
        "\n",
        "print(f\"La cuenta con el saldo más alto pertenece a {nombre_cuenta_rica} con un saldo de ${saldo_cuenta_rica:.2f}\") # Mostrar los resultados"
      ],
      "metadata": {
        "colab": {
          "base_uri": "https://localhost:8080/"
        },
        "id": "iCvPU8reb2yV",
        "outputId": "fda88f7b-f86e-45ef-a1a2-349cb564918c"
      },
      "execution_count": null,
      "outputs": [
        {
          "output_type": "stream",
          "name": "stdout",
          "text": [
            "La cuenta con el saldo más alto pertenece a Sofia con un saldo de $7800.25\n"
          ]
        }
      ]
    },
    {
      "cell_type": "markdown",
      "source": [
        "16. Escribe un programa que calcule e imprima los primeros n\n",
        " números triangulares a discresión del usuario."
      ],
      "metadata": {
        "id": "8ljPLcbZcQvX"
      }
    },
    {
      "cell_type": "code",
      "source": [
        "def calcular_numero_triangular(n):\n",
        "\n",
        "    return (n * (n + 1)) // 2\n",
        "\n",
        "num_triangulares = int(input(\"Ingrese la cantidad de números triangulares que desea calcular: \")) # Solicitar al usuario la cantidad de números triangulares a calcular\n",
        "\n",
        "for i in range(1, num_triangulares + 1): # Calcular e imprimir los primeros 'num_triangulares' números triangulares\n",
        "    triangular = calcular_numero_triangular(i)\n",
        "    print(f\"El {i}-ésimo número triangular es {triangular}\")"
      ],
      "metadata": {
        "colab": {
          "base_uri": "https://localhost:8080/"
        },
        "id": "i5EG5LN5ccI7",
        "outputId": "c9e1ff4a-db49-4357-f8f9-dd5a513c6b28"
      },
      "execution_count": null,
      "outputs": [
        {
          "output_type": "stream",
          "name": "stdout",
          "text": [
            "Ingrese la cantidad de números triangulares que desea calcular: 8\n",
            "El 1-ésimo número triangular es 1\n",
            "El 2-ésimo número triangular es 3\n",
            "El 3-ésimo número triangular es 6\n",
            "El 4-ésimo número triangular es 10\n",
            "El 5-ésimo número triangular es 15\n",
            "El 6-ésimo número triangular es 21\n",
            "El 7-ésimo número triangular es 28\n",
            "El 8-ésimo número triangular es 36\n"
          ]
        }
      ]
    },
    {
      "cell_type": "markdown",
      "source": [
        "17. Crea una función calcular_descuento que calcule el precio final después de aplicar un descuento a un artículo."
      ],
      "metadata": {
        "id": "FcOK2YnBj8oF"
      }
    },
    {
      "cell_type": "code",
      "source": [
        "def calcular_descuento(precio_original, porcentaje_descuento):\n",
        "\n",
        "    descuento = precio_original * (porcentaje_descuento / 100)\n",
        "    precio_final = precio_original - descuento\n",
        "    return precio_final\n",
        "\n",
        "precio_original = float(input(\"Ingrese el precio original del artículo: \"))  #Solicitar al usuario el precio original y el porcentaje de descuento\n",
        "porcentaje_descuento = float(input(\"Ingrese el porcentaje de descuento: \"))\n",
        "\n",
        "precio_final = calcular_descuento(precio_original, porcentaje_descuento) # Calcular el precio final utilizando la función calcular_descuento\n",
        "\n",
        "print(f\"El precio final después del {porcentaje_descuento}% de descuento es: ${precio_final:.2f}\") # Mostrar el precio final después del descuento\n"
      ],
      "metadata": {
        "colab": {
          "base_uri": "https://localhost:8080/"
        },
        "id": "g13iWCvHj_yd",
        "outputId": "5d4ad5bd-eecb-4e59-9c98-2957b7c048d2"
      },
      "execution_count": null,
      "outputs": [
        {
          "output_type": "stream",
          "name": "stdout",
          "text": [
            "Ingrese el precio original del artículo: 420000\n",
            "Ingrese el porcentaje de descuento: 10\n",
            "El precio final después del 10.0% de descuento es: $378000.00\n"
          ]
        }
      ]
    },
    {
      "cell_type": "markdown",
      "source": [
        "18. Escribe una función que tome una lista de números y devuelva una nueva lista con solo los números pares."
      ],
      "metadata": {
        "id": "QgsATqXHk0h3"
      }
    },
    {
      "cell_type": "code",
      "source": [
        "def filtrar_numeros_pares(lista_numeros):\n",
        "\n",
        "    numeros_pares = [numero for numero in lista_numeros if numero % 2 == 0]\n",
        "    return numeros_pares\n",
        "\n",
        "entrada = input(\"Ingrese una lista de números separados por espacios: \") # Solicitar al usuario una lista de números separados por espacios\n",
        "lista_numeros = [int(numero) for numero in entrada.split()]\n",
        "\n",
        "numeros_pares = filtrar_numeros_pares(lista_numeros) # Filtrar los números pares utilizando la función filtrar_numeros_pares\n",
        "\n",
        "print(\"Números pares:\", numeros_pares) # Mostrar la lista resultante con los números pares"
      ],
      "metadata": {
        "colab": {
          "base_uri": "https://localhost:8080/"
        },
        "id": "OsQZxQXgk4V_",
        "outputId": "d2263da9-e070-46be-d73c-180a88668926"
      },
      "execution_count": null,
      "outputs": [
        {
          "output_type": "stream",
          "name": "stdout",
          "text": [
            "Ingrese una lista de números separados por espacios:  58 9 60 12 15 21 30 35\n",
            "Números pares: [58, 60, 12, 30]\n"
          ]
        }
      ]
    },
    {
      "cell_type": "markdown",
      "source": [
        "19. Crea una lista de números y utiliza una función para encontrar el número más grande y el más pequeño."
      ],
      "metadata": {
        "id": "TLT6dxsMm55c"
      }
    },
    {
      "cell_type": "code",
      "source": [
        "lista4 = [70, 76, 85, 67, 92, 30, 100] # Crear una lista de números"
      ],
      "metadata": {
        "id": "tXgfpgyXnbk3"
      },
      "execution_count": null,
      "outputs": []
    },
    {
      "cell_type": "code",
      "source": [
        "def encontrar_min_max(lista_numeros):\n",
        "\n",
        "    numero_mas_pequeno = min(lista4)\n",
        "    numero_mas_grande = max(lista4)\n",
        "    return numero_mas_pequeno, numero_mas_grande\n",
        "\n",
        "numero_pequeno, numero_grande = encontrar_min_max(lista4) # Llamar a la función para encontrar el número más pequeño y el número más grande\n",
        "\n",
        "print(f\"El número más pequeño en la lista es: {numero_pequeno}\") # Mostrar los resultados\n",
        "print(f\"El número más grande en la lista es: {numero_grande}\")"
      ],
      "metadata": {
        "colab": {
          "base_uri": "https://localhost:8080/"
        },
        "id": "_FZJuTjcm8-U",
        "outputId": "78de5fc2-6fe9-43c9-8771-4a0d1da591a5"
      },
      "execution_count": null,
      "outputs": [
        {
          "output_type": "stream",
          "name": "stdout",
          "text": [
            "El número más pequeño en la lista es: 30\n",
            "El número más grande en la lista es: 100\n"
          ]
        }
      ]
    },
    {
      "cell_type": "markdown",
      "source": [
        "20. Escribe un programa que genere e imprima los primeros\n",
        " términos de la secuencia de números de Pell a discresión del usuario."
      ],
      "metadata": {
        "id": "1r2XnoYPoDf5"
      }
    },
    {
      "cell_type": "code",
      "source": [
        "def calcular_numeros_pell(n):\n",
        "\n",
        "    numeros_pell = [0, 1]  # Los primeros dos términos de la secuencia\n",
        "\n",
        "    for i in range(2, n):\n",
        "        siguiente_pell = 2 * numeros_pell[i - 1] + numeros_pell[i - 2]\n",
        "        numeros_pell.append(siguiente_pell)\n",
        "\n",
        "    return numeros_pell\n",
        "\n",
        "num_terminos = int(input(\"Ingrese la cantidad de términos de la secuencia de Pell a calcular: \")) # Solicitar al usuario la cantidad de términos de la secuencia de Pell a calcular\n",
        "\n",
        "terminos_pell = calcular_numeros_pell(num_terminos) # Calcular e imprimir los primeros 'num_terminos' términos de la secuencia de Pell\n",
        "\n",
        "print(f\"Los primeros {num_terminos} términos de la secuencia de Pell son:\")\n",
        "print(terminos_pell)"
      ],
      "metadata": {
        "colab": {
          "base_uri": "https://localhost:8080/"
        },
        "id": "hVfKPZa_n5Hh",
        "outputId": "6564fde4-cb90-42d2-db2d-461c2f3e1903"
      },
      "execution_count": null,
      "outputs": [
        {
          "output_type": "stream",
          "name": "stdout",
          "text": [
            "Ingrese la cantidad de términos de la secuencia de Pell a calcular: 5\n",
            "Los primeros 5 términos de la secuencia de Pell son:\n",
            "[0, 1, 2, 5, 12]\n"
          ]
        }
      ]
    },
    {
      "cell_type": "markdown",
      "source": [
        "21. Crea una función calcular_amortizacion que calcule la amortización de un préstamo a lo largo del tiempo."
      ],
      "metadata": {
        "id": "HGSysdcJo05r"
      }
    },
    {
      "cell_type": "code",
      "source": [
        "def calcular_amortizacion(monto_prestamo, tasa_interes_anual, plazo_años):\n",
        "\n",
        "    tasa_interes_mensual = tasa_interes_anual / 100 / 12\n",
        "    numero_pagos = plazo_años * 12\n",
        "    pago_mensual = (monto_prestamo * tasa_interes_mensual) / (1 - (1 + tasa_interes_mensual)**(-numero_pagos))\n",
        "\n",
        "    tabla_amortizacion = []\n",
        "    saldo_restante = monto_prestamo\n",
        "\n",
        "    for _ in range(numero_pagos):\n",
        "        interes = saldo_restante * tasa_interes_mensual\n",
        "        pago_principal = pago_mensual - interes\n",
        "        saldo_restante -= pago_principal\n",
        "\n",
        "        tabla_amortizacion.append((pago_mensual, interes, pago_principal, saldo_restante))\n",
        "\n",
        "    return tabla_amortizacion\n",
        "\n",
        "monto_prestamo = float(input(\"Ingrese el monto del préstamo: \")) # Solicitar al usuario los detalles del préstamo\n",
        "tasa_interes_anual = float(input(\"Ingrese la tasa de interés anual (en porcentaje): \"))\n",
        "plazo_años = int(input(\"Ingrese el plazo del préstamo en años: \"))\n",
        "\n",
        "tabla_amortizacion = calcular_amortizacion(monto_prestamo, tasa_interes_anual, plazo_años) # Calcular la tabla de amortización utilizando la función calcular_amortizacion\n",
        "\n",
        "print(\"Tabla de Amortización:\") # Mostrar la tabla de amortización\n",
        "print(\"Pago Mensual | Interés | Principal | Saldo Restante\")\n",
        "for pago_mensual, interes, pago_principal, saldo_restante in tabla_amortizacion:\n",
        "    print(f\"${pago_mensual:.2f} | ${interes:.2f} | ${pago_principal:.2f} | ${saldo_restante:.2f}\")"
      ],
      "metadata": {
        "colab": {
          "base_uri": "https://localhost:8080/"
        },
        "id": "wJAUlQMeo6bD",
        "outputId": "32608e81-61bb-4d76-aefd-a69d1da417b5"
      },
      "execution_count": null,
      "outputs": [
        {
          "output_type": "stream",
          "name": "stdout",
          "text": [
            "Ingrese el monto del préstamo: 50000000\n",
            "Ingrese la tasa de interés anual (en porcentaje): 2.5\n",
            "Ingrese el plazo del préstamo en años: 3\n",
            "Tabla de Amortización:\n",
            "Pago Mensual | Interés | Principal | Saldo Restante\n",
            "$1443068.78 | $104166.67 | $1338902.12 | $48661097.88\n",
            "$1443068.78 | $101377.29 | $1341691.50 | $47319406.39\n",
            "$1443068.78 | $98582.10 | $1344486.69 | $45974919.70\n",
            "$1443068.78 | $95781.08 | $1347287.70 | $44627632.00\n",
            "$1443068.78 | $92974.23 | $1350094.55 | $43277537.45\n",
            "$1443068.78 | $90161.54 | $1352907.25 | $41924630.20\n",
            "$1443068.78 | $87342.98 | $1355725.80 | $40568904.40\n",
            "$1443068.78 | $84518.55 | $1358550.23 | $39210354.17\n",
            "$1443068.78 | $81688.24 | $1361380.55 | $37848973.62\n",
            "$1443068.78 | $78852.03 | $1364216.75 | $36484756.87\n",
            "$1443068.78 | $76009.91 | $1367058.87 | $35117697.99\n",
            "$1443068.78 | $73161.87 | $1369906.91 | $33747791.08\n",
            "$1443068.78 | $70307.90 | $1372760.89 | $32375030.20\n",
            "$1443068.78 | $67447.98 | $1375620.80 | $30999409.39\n",
            "$1443068.78 | $64582.10 | $1378486.68 | $29620922.71\n",
            "$1443068.78 | $61710.26 | $1381358.53 | $28239564.18\n",
            "$1443068.78 | $58832.43 | $1384236.36 | $26855327.83\n",
            "$1443068.78 | $55948.60 | $1387120.18 | $25468207.64\n",
            "$1443068.78 | $53058.77 | $1390010.02 | $24078197.63\n",
            "$1443068.78 | $50162.91 | $1392905.87 | $22685291.75\n",
            "$1443068.78 | $47261.02 | $1395807.76 | $21289484.00\n",
            "$1443068.78 | $44353.09 | $1398715.69 | $19890768.30\n",
            "$1443068.78 | $41439.10 | $1401629.68 | $18489138.62\n",
            "$1443068.78 | $38519.04 | $1404549.74 | $17084588.88\n",
            "$1443068.78 | $35592.89 | $1407475.89 | $15677112.99\n",
            "$1443068.78 | $32660.65 | $1410408.13 | $14266704.86\n",
            "$1443068.78 | $29722.30 | $1413346.48 | $12853358.37\n",
            "$1443068.78 | $26777.83 | $1416290.95 | $11437067.42\n",
            "$1443068.78 | $23827.22 | $1419241.56 | $10017825.86\n",
            "$1443068.78 | $20870.47 | $1422198.31 | $8595627.55\n",
            "$1443068.78 | $17907.56 | $1425161.23 | $7170466.32\n",
            "$1443068.78 | $14938.47 | $1428130.31 | $5742336.01\n",
            "$1443068.78 | $11963.20 | $1431105.58 | $4311230.43\n",
            "$1443068.78 | $8981.73 | $1434087.05 | $2877143.37\n",
            "$1443068.78 | $5994.05 | $1437074.73 | $1440068.64\n",
            "$1443068.78 | $3000.14 | $1440068.64 | $0.00\n"
          ]
        }
      ]
    },
    {
      "cell_type": "markdown",
      "source": [
        "22. Escribe un programa que determine si un número dado es un número perfecto o no."
      ],
      "metadata": {
        "id": "zjQRc8ifqEfd"
      }
    },
    {
      "cell_type": "code",
      "source": [
        "def es_numero_perfecto(numero):\n",
        "\n",
        "    suma_divisores = 0\n",
        "\n",
        "    for i in range(1, numero):\n",
        "        if numero % i == 0:\n",
        "            suma_divisores += i\n",
        "\n",
        "    return suma_divisores == numero\n",
        "\n",
        "numero = int(input(\"Ingrese un número para verificar si es perfecto: \")) # Solicitar al usuario un número para verificar si es perfecto\n",
        "\n",
        "if es_numero_perfecto(numero): # Verificar si el número es perfecto utilizando la función es_numero_perfecto\n",
        "    print(f\"{numero} es un número perfecto.\")\n",
        "else:\n",
        "    print(f\"{numero} no es un número perfecto.\")"
      ],
      "metadata": {
        "colab": {
          "base_uri": "https://localhost:8080/"
        },
        "id": "pEfNC0xDqJTu",
        "outputId": "d4af2732-cc7c-4b9d-cc0c-c2c18dcd8ebe"
      },
      "execution_count": null,
      "outputs": [
        {
          "output_type": "stream",
          "name": "stdout",
          "text": [
            "Ingrese un número para verificar si es perfecto: 12\n",
            "12 no es un número perfecto.\n"
          ]
        }
      ]
    },
    {
      "cell_type": "markdown",
      "source": [
        "23. Define un diccionario que almacene las tasas de interés para diferentes tipos de préstamos. Pide al usuario que ingrese un tipo de préstamo y muestra la tasa de interés correspondiente.\n"
      ],
      "metadata": {
        "id": "2mzJdxEbrAjJ"
      }
    },
    {
      "cell_type": "code",
      "source": [
        "def mostrar_tasa_interes(diccionario_tasas, tipo_prestamo):\n",
        "\n",
        "    if tipo_prestamo in diccionario_tasas:\n",
        "        tasa_interes = diccionario_tasas[tipo_prestamo]\n",
        "        print(f\"La tasa de interés para el préstamo '{tipo_prestamo}' es: {tasa_interes}%\")\n",
        "    else:\n",
        "        print(f\"No se encontró la tasa de interés para el préstamo '{tipo_prestamo}'.\")\n",
        "\n",
        "tasas_interes = {  # Definir el diccionario de tasas de interés para diferentes tipos de préstamos\n",
        "    \"personal\": 7.9,\n",
        "    \"hipotecario\": 5.8,\n",
        "    \"automotriz\": 8}\n",
        "\n",
        "tipo_prestamo = input(\"Ingrese el tipo de préstamo: \") # Solicitar al usuario el tipo de préstamo\n",
        "\n",
        "mostrar_tasa_interes(tasas_interes, tipo_prestamo) # Mostrar la tasa de interés correspondiente utilizando la función mostrar_tasa_interes"
      ],
      "metadata": {
        "colab": {
          "base_uri": "https://localhost:8080/"
        },
        "id": "jhwItK4CqdLO",
        "outputId": "168345c6-9eaa-4908-e599-8d46233b9576"
      },
      "execution_count": null,
      "outputs": [
        {
          "output_type": "stream",
          "name": "stdout",
          "text": [
            "Ingrese el tipo de préstamo: hipotecario\n",
            "La tasa de interés para el préstamo 'hipotecario' es: 5.8%\n"
          ]
        }
      ]
    },
    {
      "cell_type": "markdown",
      "source": [
        "24. Escribe una función calcular_media_geometrica que calcule la media geométrica de una lista de números."
      ],
      "metadata": {
        "id": "d6BAFgULrjsM"
      }
    },
    {
      "cell_type": "code",
      "source": [
        "import math\n",
        "\n",
        "def calcular_media_geometrica(lista_numeros):\n",
        "\n",
        "    producto_numeros = 1\n",
        "\n",
        "    for numero in lista_numeros:\n",
        "        producto_numeros *= numero\n",
        "\n",
        "    media_geometrica = math.pow(producto_numeros, 1 / len(lista_numeros))\n",
        "    return media_geometrica\n",
        "\n",
        "entrada = input(\"Ingrese una lista de números separados por espacios: \") # Solicitar al usuario una lista de números separados por espacios\n",
        "lista_numeros = [float(numero) for numero in entrada.split()]\n",
        "\n",
        "media_geometrica = calcular_media_geometrica(lista_numeros) # Calcular la media geométrica utilizando la función calcular_media_geometrica\n",
        "\n",
        "print(f\"La media geométrica de los números es: {media_geometrica:.2f}\") # Mostrar la media geométrica calculada"
      ],
      "metadata": {
        "colab": {
          "base_uri": "https://localhost:8080/"
        },
        "id": "-8vEFL-fr9Dl",
        "outputId": "c2fff8fd-0b03-4cc8-ba6a-e148f7820d48"
      },
      "execution_count": null,
      "outputs": [
        {
          "output_type": "stream",
          "name": "stdout",
          "text": [
            "Ingrese una lista de números separados por espacios: 8 9 10 11 12 13\n",
            "La media geométrica de los números es: 10.36\n"
          ]
        }
      ]
    },
    {
      "cell_type": "markdown",
      "source": [
        "25. Crea una lista de números y utiliza una función para encontrar el segundo número más grande.\n"
      ],
      "metadata": {
        "id": "g2jV3ompsYdW"
      }
    },
    {
      "cell_type": "code",
      "source": [
        "\n",
        "# Crear una lista de números\n",
        "lista5 = [5, 10, 15, 20, 25, 30, 35, 40]"
      ],
      "metadata": {
        "id": "YXg3p2jJsruO"
      },
      "execution_count": null,
      "outputs": []
    },
    {
      "cell_type": "code",
      "source": [
        "def encontrar_segundo_mas_grande(lista5):\n",
        "\n",
        "    if len(lista5) < 2:\n",
        "        return None\n",
        "\n",
        "    lista_ordenada = sorted(lista5, reverse=True)    # Copiar la lista y ordenarla en orden descendente\n",
        "\n",
        "    return lista_ordenada[1]\n",
        "\n",
        "segundo_mas_grande = encontrar_segundo_mas_grande(lista5) # Llamar a la función para encontrar el segundo número más grande\n",
        "\n",
        "if segundo_mas_grande is not None:\n",
        "    print(f\"El segundo número más grande en la lista es: {segundo_mas_grande}\")\n",
        "else:\n",
        "    print(\"La lista no contiene suficientes elementos para encontrar el segundo número más grande.\")"
      ],
      "metadata": {
        "colab": {
          "base_uri": "https://localhost:8080/"
        },
        "id": "QW5oQckcsYFX",
        "outputId": "1b4bb12d-3126-4525-aec1-42d01689dc9c"
      },
      "execution_count": null,
      "outputs": [
        {
          "output_type": "stream",
          "name": "stdout",
          "text": [
            "El segundo número más grande en la lista es: 35\n"
          ]
        }
      ]
    },
    {
      "cell_type": "markdown",
      "source": [
        "26. Escribe un programa que calcule e imprima los primeros\n",
        " números de la serie de los números de Lucas a discresión del usuario."
      ],
      "metadata": {
        "id": "by6a0DaXtZgY"
      }
    },
    {
      "cell_type": "code",
      "source": [
        "def calcular_numeros_lucas(n):\n",
        "\n",
        "    numeros_lucas = [2, 1]  # Los primeros dos términos de la serie\n",
        "\n",
        "    for i in range(2, n):\n",
        "        siguiente_lucas = numeros_lucas[i - 1] + numeros_lucas[i - 2]\n",
        "        numeros_lucas.append(siguiente_lucas)\n",
        "\n",
        "    return numeros_lucas\n",
        "\n",
        "num_terminos = int(input(\"Ingrese la cantidad de términos de la serie de Lucas a calcular: \")) # Solicitar al usuario la cantidad de términos de la serie de Lucas a calcular\n",
        "\n",
        "terminos_lucas = calcular_numeros_lucas(num_terminos) # Calcular e imprimir los primeros 'num_terminos' números de la serie de Lucas\n",
        "\n",
        "print(f\"Los primeros {num_terminos} números de la serie de Lucas son:\")\n",
        "print(terminos_lucas)"
      ],
      "metadata": {
        "colab": {
          "base_uri": "https://localhost:8080/"
        },
        "id": "ov6dRVfHtdKY",
        "outputId": "5b0df594-39da-484f-94e2-14a575fa9191"
      },
      "execution_count": null,
      "outputs": [
        {
          "output_type": "stream",
          "name": "stdout",
          "text": [
            "Ingrese la cantidad de términos de la serie de Lucas a calcular: 10\n",
            "Los primeros 10 números de la serie de Lucas son:\n",
            "[2, 1, 3, 4, 7, 11, 18, 29, 47, 76]\n"
          ]
        }
      ]
    },
    {
      "cell_type": "markdown",
      "source": [
        "27. Crea una función calcular_cuota_mensual que calcule la cuota mensual de un préstamo hipotecario."
      ],
      "metadata": {
        "id": "wyS99vDctxWB"
      }
    },
    {
      "cell_type": "code",
      "source": [
        "def calcular_cuota_mensual(monto_prestamo, tasa_interes_anual, plazo_anios):\n",
        "\n",
        "    tasa_interes_mensual = tasa_interes_anual / 100 / 12\n",
        "    numero_pagos = plazo_anios * 12\n",
        "    cuota_mensual = (monto_prestamo * tasa_interes_mensual) / (1 - (1 + tasa_interes_mensual)**(-numero_pagos))\n",
        "    return cuota_mensual\n",
        "\n",
        "monto_prestamo = float(input(\"Ingrese el monto del préstamo: \")) # Solicitar al usuario los detalles del préstamo hipotecario\n",
        "tasa_interes_anual = float(input(\"Ingrese la tasa de interés anual (en porcentaje): \"))\n",
        "plazo_anios = int(input(\"Ingrese el plazo del préstamo en años: \"))\n",
        "\n",
        "cuota_mensual = calcular_cuota_mensual(monto_prestamo, tasa_interes_anual, plazo_anios) # Calcular la cuota mensual utilizando la función calcular_cuota_mensual\n",
        "\n",
        "print(f\"La cuota mensual del préstamo es: ${cuota_mensual:.2f}\") # Mostrar la cuota mensual calculada"
      ],
      "metadata": {
        "colab": {
          "base_uri": "https://localhost:8080/"
        },
        "id": "Gs68URynt0bp",
        "outputId": "adee77fd-415a-4aec-8b84-543c750af8f6"
      },
      "execution_count": null,
      "outputs": [
        {
          "output_type": "stream",
          "name": "stdout",
          "text": [
            "Ingrese el monto del préstamo: 150000000\n",
            "Ingrese la tasa de interés anual (en porcentaje): 1.8\n",
            "Ingrese el plazo del préstamo en años: 2\n",
            "La cuota mensual del préstamo es: $6367860.81\n"
          ]
        }
      ]
    },
    {
      "cell_type": "markdown",
      "source": [
        "28.Escribe una función que determine si un número es un número de Armstrong (un número de n dígitos que es igual a la suma de sus dígitos elevados a la n)."
      ],
      "metadata": {
        "id": "r4MSrQnzxa9M"
      }
    },
    {
      "cell_type": "code",
      "source": [
        "def es_numero_armstrong(numero):\n",
        "\n",
        "    num_str = str(numero)\n",
        "    n = len(num_str)\n",
        "    suma_digitos = sum(int(digito)**n for digito in num_str)\n",
        "\n",
        "    return suma_digitos == numero\n",
        "\n",
        "numero = int(input(\"Ingrese un número para verificar si es un número de Armstrong: \")) # Solicitar al usuario un número para verificar si es un número de Armstrong\n",
        "\n",
        "if es_numero_armstrong(numero): # Verificar si el número es un número de Armstrong utilizando la función es_numero_armstrong\n",
        "    print(f\"{numero} es un número de Armstrong.\")\n",
        "else:\n",
        "    print(f\"{numero} no es un número de Armstrong.\")"
      ],
      "metadata": {
        "colab": {
          "base_uri": "https://localhost:8080/"
        },
        "id": "BaUPJCeNxdbs",
        "outputId": "87935fbb-12fc-4876-dcdb-f7037c3e9be2"
      },
      "execution_count": null,
      "outputs": [
        {
          "output_type": "stream",
          "name": "stdout",
          "text": [
            "Ingrese un número para verificar si es un número de Armstrong: 30\n",
            "30 no es un número de Armstrong.\n"
          ]
        }
      ]
    },
    {
      "cell_type": "markdown",
      "source": [
        "29. Define un diccionario que almacene los símbolos de moneda y sus respectivos códigos. Escribe un programa que convierta una cantidad de dinero de una moneda a otra."
      ],
      "metadata": {
        "id": "ReIc1lhCuSmx"
      }
    },
    {
      "cell_type": "code",
      "source": [
        "def convertir_moneda(cantidad, moneda_origen, moneda_destino, tasas_conversion):\n",
        "\n",
        "    if moneda_origen not in tasas_conversion or moneda_destino not in tasas_conversion:\n",
        "        print(\"No se encontraron tasas de conversión para las monedas especificadas.\")\n",
        "        return None\n",
        "\n",
        "    tasa_conversion = tasas_conversion[moneda_destino] / tasas_conversion[moneda_origen]\n",
        "    cantidad_convertida = cantidad * tasa_conversion\n",
        "    return cantidad_convertida\n",
        "\n",
        "\n",
        "tasas_conversion = { # Definir el diccionario de tasas de conversión de monedas\n",
        "    \"USD\": 0.85,\n",
        "    \"EUR\": 1,\n",
        "    \"CHF\": 300,\n",
        "    \"AUD\": 2}\n",
        "\n",
        "cantidad = float(input(\"Ingrese la cantidad de dinero a convertir: \")) # Solicitar al usuario los detalles de la conversión\n",
        "moneda_origen = input(\"Ingrese el símbolo de la moneda de origen (por ejemplo, USD): \").upper()\n",
        "moneda_destino = input(\"Ingrese el símbolo de la moneda de destino (por ejemplo, EUR): \").upper()\n",
        "\n",
        "cantidad_convertida = convertir_moneda(cantidad, moneda_origen, moneda_destino, tasas_conversion) # Realizar la conversión utilizando la función convertir_moneda\n",
        "\n",
        "if cantidad_convertida is not None: # Mostrar el resultado de la conversión\n",
        "    print(f\"{cantidad:.2f} {moneda_origen} equivale a {cantidad_convertida:.2f} {moneda_destino}\")"
      ],
      "metadata": {
        "colab": {
          "base_uri": "https://localhost:8080/"
        },
        "id": "LNIH7C9qupZB",
        "outputId": "4b3a6cc0-53b7-4290-9198-199587c115b1"
      },
      "execution_count": null,
      "outputs": [
        {
          "output_type": "stream",
          "name": "stdout",
          "text": [
            "Ingrese la cantidad de dinero a convertir: 89456\n",
            "Ingrese el símbolo de la moneda de origen (por ejemplo, USD): EUR\n",
            "Ingrese el símbolo de la moneda de destino (por ejemplo, EUR): AUD\n",
            "89456.00 EUR equivale a 178912.00 AUD\n"
          ]
        }
      ]
    },
    {
      "cell_type": "markdown",
      "source": [
        "30. Crea una función que calcule la desviación estándar de una lista de números."
      ],
      "metadata": {
        "id": "Mdqhy3YCwMAK"
      }
    },
    {
      "cell_type": "code",
      "source": [
        "import math\n",
        "\n",
        "def calcular_desviacion_estandar(lista6):\n",
        "\n",
        "    media = sum(lista_numeros) / len(lista6)\n",
        "    suma_cuadrados_diferencias = sum((x - media)**2 for x in lista6)\n",
        "    desviacion_estandar = math.sqrt(suma_cuadrados_diferencias / len(lista6))\n",
        "    return desviacion_estandar\n",
        "\n",
        "entrada = input(\"Ingrese una lista de números separados por espacios: \") # Solicitar al usuario una lista de números separados por espacios\n",
        "lista6 = [float(numero) for numero in entrada.split()]\n",
        "\n",
        "desviacion_estandar = calcular_desviacion_estandar(lista_numeros)# Calcular la desviación estándar utilizando la función calcular_desviacion_estandar\n",
        "\n",
        "print(f\"La desviación estándar de los números es: {desviacion_estandar:.2f}\") # Mostrar la desviación estándar calculada"
      ],
      "metadata": {
        "colab": {
          "base_uri": "https://localhost:8080/"
        },
        "id": "iFgnW-JfwVD6",
        "outputId": "4ad3eb7e-52ae-4fff-ee6b-95ca0556a213"
      },
      "execution_count": null,
      "outputs": [
        {
          "output_type": "stream",
          "name": "stdout",
          "text": [
            "Ingrese una lista de números separados por espacios: 25 40 58 95 30 16 20 85 45 50 \n",
            "La desviación estándar de los números es: 1.71\n"
          ]
        }
      ]
    }
  ]
}